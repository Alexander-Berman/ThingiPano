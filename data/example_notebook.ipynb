{
 "cells": [
  {
   "cell_type": "code",
   "execution_count": 1,
   "metadata": {
    "collapsed": false
   },
   "outputs": [
    {
     "name": "stderr",
     "output_type": "stream",
     "text": [
      "/Users/anb/anaconda3/lib/python3.5/site-packages/lightfm/_lightfm_fast.py:9: UserWarning: LightFM was compiled without OpenMP support. Only a single thread will be used.\n",
      "  warnings.warn('LightFM was compiled without OpenMP support. '\n"
     ]
    },
    {
     "name": "stdout",
     "output_type": "stream",
     "text": [
      "Reading From 2937 Files...\n",
      "1017687 Things Read\n"
     ]
    }
   ],
   "source": [
    "import glob\n",
    "import json\n",
    "import re\n",
    "import os\n",
    "import sys\n",
    "import concurrent\n",
    "import numpy as np\n",
    "from itertools import repeat,chain\n",
    "from urllib.parse import urlparse\n",
    "from urllib.parse import parse_qs\n",
    "\n",
    "\n",
    "metadata_dir = '<PATH TO METADATA>'\n",
    "metadata_dir += '/*.json'\n",
    "\n",
    "#fields from below to copy from json files and keep in memory\n",
    "fields = ['published_datetime','id','author','comments','liked_by','makes', 'remixed_from', 'customizer', 'description','category', 'title', 'tags']\n",
    "\n",
    "#Takes in a filepath and a list of fields within the json to write to a dictionary\n",
    "def get_metadata(filepath,fields):\n",
    "    try:\n",
    "        data = json.loads(open(filepath).read())\n",
    "        return_data = []\n",
    "        for item in data:\n",
    "            return_data.append({field:value for field,value in item.items() if field in fields})\n",
    "        return return_data\n",
    "    except:\n",
    "        return []\n",
    "\n",
    "files = glob.glob(metadata_dir) \n",
    "print(\"Reading From {} Files...\".format(len(files)))\n",
    "data = [[] for i in range(len(files))]\n",
    "#multiprocess reading in files\n",
    "with concurrent.futures.ProcessPoolExecutor() as executor: \n",
    "    for i,data_part in enumerate(zip(files,executor.map(get_metadata,files,repeat(fields)))):\n",
    "        _,data[i] = data_part\n",
    "data = list(chain.from_iterable(data)) #flatten list of list of dictionaries to list of dictionaries\n",
    "print(\"{} Things Read\".format(len(data)))"
   ]
  },
  {
   "cell_type": "code",
   "execution_count": 2,
   "metadata": {
    "collapsed": false
   },
   "outputs": [
    {
     "name": "stdout",
     "output_type": "stream",
     "text": [
      "Found 9698 Customizers and 439690 Customized Things\n"
     ]
    }
   ],
   "source": [
    "#gather which things are customized\n",
    "customizers = [] #set of customizer-templates\n",
    "for thing in data:\n",
    "    if 'customizer' in thing and thing['customizer']:\n",
    "        customizers.append(int(thing['id']))\n",
    "customizers = list(set(customizers))\n",
    "\n",
    "customized = [] #set of customized things\n",
    "for thing in data:\n",
    "    if 'remixed_from' in thing:\n",
    "        for r_thing in thing['remixed_from']:\n",
    "            if int(r_thing['thing_id']) in customizers:\n",
    "                customized.append(int(thing['id']))\n",
    "print(\"Found {} Customizers and {} Customized Things\".format(len(customizers),len(customized)))"
   ]
  },
  {
   "cell_type": "code",
   "execution_count": 3,
   "metadata": {
    "collapsed": false
   },
   "outputs": [],
   "source": [
    "num_chars = []\n",
    "num_words = []\n",
    "for thing in data:\n",
    "    if 'description' in thing:\n",
    "        description = ' '.join([' '.join(ht.values()) for ht in thing['description']])\n",
    "        num_chars.append(len(description))\n",
    "        num_words.append(len(description.split()))"
   ]
  },
  {
   "cell_type": "code",
   "execution_count": 4,
   "metadata": {
    "collapsed": false
   },
   "outputs": [
    {
     "name": "stdout",
     "output_type": "stream",
     "text": [
      "547.0\n",
      "57.0\n"
     ]
    },
    {
     "data": {
      "text/plain": [
       "0.5013491417768188"
      ]
     },
     "execution_count": 4,
     "metadata": {},
     "output_type": "execute_result"
    }
   ],
   "source": [
    "print(np.median(num_chars))\n",
    "print(np.median(num_words))"
   ]
  },
  {
   "cell_type": "code",
   "execution_count": null,
   "metadata": {
    "collapsed": true
   },
   "outputs": [],
   "source": []
  },
  {
   "cell_type": "code",
   "execution_count": 6,
   "metadata": {
    "collapsed": true
   },
   "outputs": [],
   "source": [
    "#now get info on categories"
   ]
  },
  {
   "cell_type": "code",
   "execution_count": 7,
   "metadata": {
    "collapsed": false
   },
   "outputs": [],
   "source": [
    "categories = []#list of all categories\n",
    "user_ints = {} #user -> list of interaction categories\n",
    "user_creations = {}#user -> list of published things\n",
    "for thing in data:\n",
    "    users = []\n",
    "    \n",
    "    category = None\n",
    "    if 'category' in thing and thing['category'] is not None:\n",
    "        category = thing['category'].split('/')[1]\n",
    "    else:\n",
    "        continue\n",
    "        \n",
    "    if 'author' in thing:\n",
    "        users.append(thing['author'])\n",
    "        \n",
    "        if thing['author'] not in user_creations:\n",
    "            user_creations[thing['author']] = []\n",
    "        user_creations[thing['author']].append(int(thing['id']))\n",
    "    \n",
    "    if 'liked_by' in thing:\n",
    "        for user in thing['liked_by']:\n",
    "            users.append(user['user'])\n",
    "            \n",
    "    if 'makes' in thing:\n",
    "        for user in thing['makes']:\n",
    "            users.append(user['user'])\n",
    "    \n",
    "    if 'comments' in thing:\n",
    "        for comment in thing['comments']:\n",
    "            if 'author' in comment:\n",
    "                users.append(comment['author'])\n",
    "    \n",
    "    #add to user_ints\n",
    "    for user in users:\n",
    "        if user not in user_ints:\n",
    "            user_ints[user] = []\n",
    "        user_ints[user].append(category)\n",
    "        \n",
    "    #make a unique list of categories\n",
    "    categories= list(set(categories + [category]))"
   ]
  },
  {
   "cell_type": "code",
   "execution_count": 8,
   "metadata": {
    "collapsed": false
   },
   "outputs": [],
   "source": [
    "#bin users based on Flath et al.\n",
    "pi_users = []\n",
    "customizer_users = []\n",
    "nodesign_users = []\n",
    "for user in user_ints.keys():\n",
    "    if user in user_creations:\n",
    "        things = user_creations[user]\n",
    "    else:\n",
    "        #No designs published\n",
    "        nodesign_users.append(user)\n",
    "        continue\n",
    "    \n",
    "    customized_count = 0\n",
    "    for thing in things:\n",
    "        if thing in customized:\n",
    "            customized_count += 1\n",
    "            \n",
    "    customized_ratio = customized_count / len(things)\n",
    "    if customized_ratio < 0.5:\n",
    "        pi_users.append(user)\n",
    "    else:\n",
    "        customizer_users.append(user)    "
   ]
  },
  {
   "cell_type": "code",
   "execution_count": null,
   "metadata": {
    "collapsed": true
   },
   "outputs": [],
   "source": [
    "pi_users = set(pi_users)\n",
    "customizer_users = set(customizer_users)\n",
    "nodesign_users = set(nodesign_users)"
   ]
  },
  {
   "cell_type": "code",
   "execution_count": null,
   "metadata": {
    "collapsed": false
   },
   "outputs": [
    {
     "name": "stdout",
     "output_type": "stream",
     "text": [
      "\tart:\t28.023642713952096%\t(135598)\n",
      "\tfashion:\t21.828590323847312%\t(105622)\n",
      "\tmodels:\t24.894496455659578%\t(120457)\n",
      "\t3d-printing:\t45.698431396862794%\t(221121)\n",
      "\ttoys-and-games:\t27.234381135428936%\t(131779)\n",
      "\thobby:\t36.18430570194474%\t(175085)\n",
      "\thousehold:\t37.30526794386922%\t(180509)\n",
      "\ttools:\t19.099344865356397%\t(92416)\n",
      "\tlearning:\t10.247173827680989%\t(49583)\n",
      "\tgadgets:\t29.132204931076526%\t(140962)\n",
      "CPU times: user 16h 22min 26s, sys: 7min 46s, total: 16h 30min 13s\n",
      "Wall time: 22h 49min 34s\n"
     ]
    }
   ],
   "source": [
    "%%time\n",
    "category_participation = []\n",
    "for category in categories:\n",
    "    num_users = 0\n",
    "    num_pi = 0\n",
    "    num_cust = 0\n",
    "    num_nd = 0\n",
    "    for user in user_ints.keys():\n",
    "        for c in user_ints[user]:\n",
    "            if c == category:\n",
    "                num_users += 1\n",
    "                #add based on user type\n",
    "                if user in pi_users:\n",
    "                    num_pi +=1\n",
    "                elif user in customizer_users:\n",
    "                    num_cust +=1\n",
    "                elif user in nodesign_users:\n",
    "                    num_nd +=1\n",
    "                \n",
    "                break\n",
    "    category_participation.append((category,num_users,(num_pi,num_cust,num_nd)))\n",
    "    print(\"\\t{}:\\t{}%\\t({})\".format(category,float(num_users)/len(user_ints.keys())*100.0,num_users))\n",
    "    print(\"\\t\\t{}, {}, {}\".format(num_pi,num_cust,num_nd))"
   ]
  },
  {
   "cell_type": "code",
   "execution_count": 19,
   "metadata": {
    "collapsed": false
   },
   "outputs": [
    {
     "name": "stdout",
     "output_type": "stream",
     "text": [
      "\tlearning:\t10.247173827680989%\t(49583)\n",
      "\t\t15263,\t8579,\t25741\n",
      "\t\t0.13134320651940073%,\t0.09531374988889876%,\t0.09270857719111847%\n",
      "\ttools:\t19.099344865356397%\t(92416)\n",
      "\t\t30092,\t19432,\t42892\n",
      "\t\t0.25895169826258313%,\t0.21589192071815838%,\t0.15447947993012912%\n",
      "\tfashion:\t21.828590323847312%\t(105622)\n",
      "\t\t25418,\t30349,\t49855\n",
      "\t\t0.2187303690827575%,\t0.33718113945427075%,\t0.17955736435504493%\n",
      "\tmodels:\t24.894496455659578%\t(120457)\n",
      "\t\t33991,\t15267,\t71199\n",
      "\t\t0.29250389391344755%,\t0.16961825615500845%,\t0.2564297419459401%\n",
      "\ttoys-and-games:\t27.234381135428936%\t(131779)\n",
      "\t\t36337,\t20860,\t74582\n",
      "\t\t0.31269200650563217%,\t0.23175717713980978%,\t0.2686139273558913%\n",
      "\tart:\t28.023642713952096%\t(135598)\n",
      "\t\t34841,\t34450,\t66307\n",
      "\t\t0.2998184274613405%,\t0.38274375611056793%,\t0.23881075435342422%\n",
      "\tgadgets:\t29.132204931076526%\t(140962)\n",
      "\t\t40609,\t25518,\t74835\n",
      "\t\t0.34945399158398377%,\t0.2835081326104346%,\t0.2695251301075075%\n",
      "\thobby:\t36.18430570194474%\t(175085)\n",
      "\t\t53883,\t24791,\t96411\n",
      "\t\t0.4636811896013149%,\t0.27543107279352946%,\t0.34723307702004286%\n",
      "\thousehold:\t37.30526794386922%\t(180509)\n",
      "\t\t49798,\t43700,\t87011\n",
      "\t\t0.4285284019034998%,\t0.48551239889787573%,\t0.31337811312600167%\n",
      "\t3d-printing:\t45.698431396862794%\t(221121)\n",
      "\t\t74456,\t29577,\t117088\n",
      "\t\t0.6407187174610823%,\t0.32860412407785977%,\t0.42170319281122254%\n"
     ]
    }
   ],
   "source": [
    "for cp in sorted(category_participation,key=lambda x:x[1]):\n",
    "    print(\"\\t{}:\\t{}%\\t({})\".format(cp[0],float(cp[1])/len(user_ints.keys())*100.0,cp[1],cp[2]))\n",
    "    print(\"\\t\\t{},\\t{},\\t{}\".format(cp[2][0],cp[2][1],cp[2][2]))\n",
    "    print(\"\\t\\t{}%,\\t{}%,\\t{}%\".format(cp[2][0]/len(pi_users)*100.0,cp[2][1]/len(customizer_users)*100.0,cp[2][2]/len(nodesign_users)*100.0))"
   ]
  },
  {
   "cell_type": "code",
   "execution_count": null,
   "metadata": {
    "collapsed": true
   },
   "outputs": [],
   "source": []
  },
  {
   "cell_type": "code",
   "execution_count": 22,
   "metadata": {
    "collapsed": false
   },
   "outputs": [
    {
     "name": "stdout",
     "output_type": "stream",
     "text": [
      "learning\t16469\t0.01618277525408107\n",
      "models\t43745\t0.04298472909647072\n",
      "tools\t55462\t0.05449809224250678\n",
      "gadgets\t61460\t0.06039184936036326\n",
      "toys-and-games\t66555\t0.065398300263244\n",
      "fashion\t110465\t0.1085451617245774\n",
      "hobby\t111073\t0.10914259492358652\n",
      "art\t123367\t0.1212229300364454\n",
      "3d-printing\t184697\t0.1814870387457047\n",
      "household\t191418\t0.18809123040777764\n"
     ]
    }
   ],
   "source": [
    "#print category distribution of designs\n",
    "category_count = {}\n",
    "for thing in data:\n",
    "    category = None\n",
    "    if 'category' in thing and thing['category'] is not None:\n",
    "        category = thing['category'].split('/')[1]\n",
    "    else:\n",
    "        continue\n",
    "    if category not in category_count:\n",
    "        category_count[category]  = 0\n",
    "    category_count[category] += 1\n",
    "cc = sorted(category_count.items(),key=lambda x:x[1])\n",
    "for category,count in cc:\n",
    "    print(\"{}\\t{}\\t{}\".format(category,count,count/len(data)))"
   ]
  },
  {
   "cell_type": "code",
   "execution_count": 35,
   "metadata": {
    "collapsed": false
   },
   "outputs": [
    {
     "ename": "TypeError",
     "evalue": "Can't convert 'list' object to str implicitly",
     "output_type": "error",
     "traceback": [
      "\u001b[0;31m---------------------------------------------------------------------------\u001b[0m",
      "\u001b[0;31mTypeError\u001b[0m                                 Traceback (most recent call last)",
      "\u001b[0;32m<ipython-input-35-a338509e2f1f>\u001b[0m in \u001b[0;36m<module>\u001b[0;34m()\u001b[0m\n\u001b[1;32m     16\u001b[0m     \u001b[0;32melse\u001b[0m\u001b[0;34m:\u001b[0m\u001b[0;34m\u001b[0m\u001b[0m\n\u001b[1;32m     17\u001b[0m         \u001b[0mcategory_count\u001b[0m\u001b[0;34m[\u001b[0m\u001b[0mcategory\u001b[0m\u001b[0;34m]\u001b[0m\u001b[0;34m[\u001b[0m\u001b[0;36m2\u001b[0m\u001b[0;34m]\u001b[0m \u001b[0;34m+=\u001b[0m \u001b[0;36m1\u001b[0m\u001b[0;34m\u001b[0m\u001b[0m\n\u001b[0;32m---> 18\u001b[0;31m \u001b[0mcc\u001b[0m \u001b[0;34m=\u001b[0m \u001b[0msorted\u001b[0m\u001b[0;34m(\u001b[0m\u001b[0mcategory_count\u001b[0m\u001b[0;34m.\u001b[0m\u001b[0mitems\u001b[0m\u001b[0;34m(\u001b[0m\u001b[0;34m)\u001b[0m\u001b[0;34m,\u001b[0m\u001b[0mkey\u001b[0m\u001b[0;34m=\u001b[0m\u001b[0;32mlambda\u001b[0m \u001b[0mx\u001b[0m\u001b[0;34m:\u001b[0m\u001b[0mx\u001b[0m\u001b[0;34m[\u001b[0m\u001b[0;36m0\u001b[0m\u001b[0;34m]\u001b[0m\u001b[0;34m+\u001b[0m\u001b[0mx\u001b[0m\u001b[0;34m[\u001b[0m\u001b[0;36m1\u001b[0m\u001b[0;34m]\u001b[0m\u001b[0;34m+\u001b[0m\u001b[0mx\u001b[0m\u001b[0;34m[\u001b[0m\u001b[0;36m2\u001b[0m\u001b[0;34m]\u001b[0m\u001b[0;34m)\u001b[0m\u001b[0;34m\u001b[0m\u001b[0m\n\u001b[0m\u001b[1;32m     19\u001b[0m \u001b[0;32mfor\u001b[0m \u001b[0mcategory\u001b[0m\u001b[0;34m,\u001b[0m\u001b[0;34m(\u001b[0m\u001b[0mc1\u001b[0m\u001b[0;34m,\u001b[0m\u001b[0mc2\u001b[0m\u001b[0;34m,\u001b[0m\u001b[0mc3\u001b[0m\u001b[0;34m)\u001b[0m \u001b[0;32min\u001b[0m \u001b[0mcc\u001b[0m\u001b[0;34m:\u001b[0m\u001b[0;34m\u001b[0m\u001b[0m\n\u001b[1;32m     20\u001b[0m     \u001b[0mprint\u001b[0m\u001b[0;34m(\u001b[0m\u001b[0;34m\"{}\\t{}\\t{}, {}, {}\"\u001b[0m\u001b[0;34m.\u001b[0m\u001b[0mformat\u001b[0m\u001b[0;34m(\u001b[0m\u001b[0mcategory\u001b[0m\u001b[0;34m,\u001b[0m\u001b[0mc1\u001b[0m\u001b[0;34m/\u001b[0m\u001b[0mlen\u001b[0m\u001b[0;34m(\u001b[0m\u001b[0mdata\u001b[0m\u001b[0;34m)\u001b[0m\u001b[0;34m,\u001b[0m\u001b[0mc2\u001b[0m\u001b[0;34m/\u001b[0m\u001b[0mlen\u001b[0m\u001b[0;34m(\u001b[0m\u001b[0mdata\u001b[0m\u001b[0;34m)\u001b[0m\u001b[0;34m,\u001b[0m\u001b[0mc3\u001b[0m\u001b[0;34m/\u001b[0m\u001b[0mlen\u001b[0m\u001b[0;34m(\u001b[0m\u001b[0mdata\u001b[0m\u001b[0;34m)\u001b[0m\u001b[0;34m)\u001b[0m\u001b[0;34m)\u001b[0m\u001b[0;34m\u001b[0m\u001b[0m\n",
      "\u001b[0;32m<ipython-input-35-a338509e2f1f>\u001b[0m in \u001b[0;36m<lambda>\u001b[0;34m(x)\u001b[0m\n\u001b[1;32m     16\u001b[0m     \u001b[0;32melse\u001b[0m\u001b[0;34m:\u001b[0m\u001b[0;34m\u001b[0m\u001b[0m\n\u001b[1;32m     17\u001b[0m         \u001b[0mcategory_count\u001b[0m\u001b[0;34m[\u001b[0m\u001b[0mcategory\u001b[0m\u001b[0;34m]\u001b[0m\u001b[0;34m[\u001b[0m\u001b[0;36m2\u001b[0m\u001b[0;34m]\u001b[0m \u001b[0;34m+=\u001b[0m \u001b[0;36m1\u001b[0m\u001b[0;34m\u001b[0m\u001b[0m\n\u001b[0;32m---> 18\u001b[0;31m \u001b[0mcc\u001b[0m \u001b[0;34m=\u001b[0m \u001b[0msorted\u001b[0m\u001b[0;34m(\u001b[0m\u001b[0mcategory_count\u001b[0m\u001b[0;34m.\u001b[0m\u001b[0mitems\u001b[0m\u001b[0;34m(\u001b[0m\u001b[0;34m)\u001b[0m\u001b[0;34m,\u001b[0m\u001b[0mkey\u001b[0m\u001b[0;34m=\u001b[0m\u001b[0;32mlambda\u001b[0m \u001b[0mx\u001b[0m\u001b[0;34m:\u001b[0m\u001b[0mx\u001b[0m\u001b[0;34m[\u001b[0m\u001b[0;36m0\u001b[0m\u001b[0;34m]\u001b[0m\u001b[0;34m+\u001b[0m\u001b[0mx\u001b[0m\u001b[0;34m[\u001b[0m\u001b[0;36m1\u001b[0m\u001b[0;34m]\u001b[0m\u001b[0;34m+\u001b[0m\u001b[0mx\u001b[0m\u001b[0;34m[\u001b[0m\u001b[0;36m2\u001b[0m\u001b[0;34m]\u001b[0m\u001b[0;34m)\u001b[0m\u001b[0;34m\u001b[0m\u001b[0m\n\u001b[0m\u001b[1;32m     19\u001b[0m \u001b[0;32mfor\u001b[0m \u001b[0mcategory\u001b[0m\u001b[0;34m,\u001b[0m\u001b[0;34m(\u001b[0m\u001b[0mc1\u001b[0m\u001b[0;34m,\u001b[0m\u001b[0mc2\u001b[0m\u001b[0;34m,\u001b[0m\u001b[0mc3\u001b[0m\u001b[0;34m)\u001b[0m \u001b[0;32min\u001b[0m \u001b[0mcc\u001b[0m\u001b[0;34m:\u001b[0m\u001b[0;34m\u001b[0m\u001b[0m\n\u001b[1;32m     20\u001b[0m     \u001b[0mprint\u001b[0m\u001b[0;34m(\u001b[0m\u001b[0;34m\"{}\\t{}\\t{}, {}, {}\"\u001b[0m\u001b[0;34m.\u001b[0m\u001b[0mformat\u001b[0m\u001b[0;34m(\u001b[0m\u001b[0mcategory\u001b[0m\u001b[0;34m,\u001b[0m\u001b[0mc1\u001b[0m\u001b[0;34m/\u001b[0m\u001b[0mlen\u001b[0m\u001b[0;34m(\u001b[0m\u001b[0mdata\u001b[0m\u001b[0;34m)\u001b[0m\u001b[0;34m,\u001b[0m\u001b[0mc2\u001b[0m\u001b[0;34m/\u001b[0m\u001b[0mlen\u001b[0m\u001b[0;34m(\u001b[0m\u001b[0mdata\u001b[0m\u001b[0;34m)\u001b[0m\u001b[0;34m,\u001b[0m\u001b[0mc3\u001b[0m\u001b[0;34m/\u001b[0m\u001b[0mlen\u001b[0m\u001b[0;34m(\u001b[0m\u001b[0mdata\u001b[0m\u001b[0;34m)\u001b[0m\u001b[0;34m)\u001b[0m\u001b[0;34m)\u001b[0m\u001b[0;34m\u001b[0m\u001b[0m\n",
      "\u001b[0;31mTypeError\u001b[0m: Can't convert 'list' object to str implicitly"
     ]
    }
   ],
   "source": [
    "#print category distribution of designs\n",
    "category_count = {} #category to tuple of customizer, non-cust remix, non\n",
    "for thing in data:\n",
    "    category = None\n",
    "    if 'category' in thing and thing['category'] is not None:\n",
    "        category = thing['category'].split('/')[1]\n",
    "    else:\n",
    "        continue\n",
    "    if category not in category_count:\n",
    "        category_count[category]  = [0,0,0]\n",
    "        \n",
    "    if int(thing['id']) in customized:\n",
    "        category_count[category][0] += 1\n",
    "    elif 'remixed_from' in thing and len(thing['remixed_from'])>0:\n",
    "        category_count[category][1] += 1\n",
    "    else:\n",
    "        category_count[category][2] += 1"
   ]
  },
  {
   "cell_type": "code",
   "execution_count": 43,
   "metadata": {
    "collapsed": false
   },
   "outputs": [
    {
     "name": "stdout",
     "output_type": "stream",
     "text": [
      "category\tcutomized, non-customized remix, orginal\n",
      "--------------------------------------------------\n",
      "learning\t0.00564613677879348, 0.0010356818943348986, 0.00950095658095269\n",
      "models\t0.005746364058890405, 0.004751952221066005, 0.032486412816514314\n",
      "tools\t0.029971887230553204, 0.0030254881903768053, 0.02150071682157677\n",
      "gadgets\t0.023747969660612742, 0.006088315955691682, 0.030555563744058833\n",
      "toys-and-games\t0.023320529789611147, 0.007454158302110571, 0.03462361217152229\n",
      "fashion\t0.08601367611063127, 0.0028476338992244176, 0.019683851714721718\n",
      "hobby\t0.022794827879298842, 0.011303082381911137, 0.07504468466237654\n",
      "art\t0.08053163693748668, 0.004832527093300789, 0.035858766005657926\n",
      "3d-printing\t0.02431101114586312, 0.027639146417316917, 0.12953688118252468\n",
      "household\t0.11671663291365617, 0.007762701105546204, 0.06361189638857527\n"
     ]
    }
   ],
   "source": [
    "cc = sorted(category_count.items(),key=lambda x:x[1][0]+x[1][1]+x[1][2])\n",
    "print(\"category\\tcutomized, non-customized remix, orginal\")\n",
    "print(\"--------------------------------------------------\")\n",
    "for category,(c1,c2,c3) in cc:\n",
    "    print(\"{}\\t{}, {}, {}\".format(category,c1/len(data),c2/len(data),c3/len(data)))"
   ]
  },
  {
   "cell_type": "code",
   "execution_count": null,
   "metadata": {
    "collapsed": false
   },
   "outputs": [],
   "source": []
  },
  {
   "cell_type": "code",
   "execution_count": null,
   "metadata": {
    "collapsed": true
   },
   "outputs": [],
   "source": []
  },
  {
   "cell_type": "code",
   "execution_count": null,
   "metadata": {
    "collapsed": false
   },
   "outputs": [],
   "source": [
    "category_participation = []\n",
    "for category in categories:\n",
    "    num_users = 0\n",
    "    for user in user_ints.keys():\n",
    "        for c in user_ints[user]:\n",
    "            if c == category:\n",
    "                num_users += 1\n",
    "                break\n",
    "    category_participation.append((category,num_users))\n",
    "    print(\"\\t{}:\\t{}%\\t({})\".format(category,float(num_users)/len(user_ints.keys())*100.0,num_users))"
   ]
  },
  {
   "cell_type": "code",
   "execution_count": null,
   "metadata": {
    "collapsed": true
   },
   "outputs": [],
   "source": []
  },
  {
   "cell_type": "code",
   "execution_count": 9,
   "metadata": {
    "collapsed": true
   },
   "outputs": [],
   "source": [
    "categories = []#list of all categories\n",
    "user_ints = {} #user -> list of interaction categories\n",
    "for thing in data:\n",
    "    users = []\n",
    "    \n",
    "    category = None\n",
    "    if 'category' in thing and thing['category'] is not None:\n",
    "        category = thing['category']\n",
    "    else:\n",
    "        continue\n",
    "        \n",
    "    if 'author' in thing:\n",
    "        users.append(thing['author'])\n",
    "    \n",
    "    if 'liked_by' in thing:\n",
    "        for user in thing['liked_by']:\n",
    "            users.append(user['user'])\n",
    "            \n",
    "    if 'makes' in thing:\n",
    "        for user in thing['makes']:\n",
    "            users.append(user['user'])\n",
    "    \n",
    "    if 'comments' in thing:\n",
    "        for comment in thing['comments']:\n",
    "            if 'author' in comment:\n",
    "                users.append(comment['author'])\n",
    "    \n",
    "    #add to user_ints\n",
    "    for user in users:\n",
    "        if user not in user_ints:\n",
    "            user_ints[user] = []\n",
    "        user_ints[user].append(category)\n",
    "        \n",
    "    #make a unique list of categories\n",
    "    categories= list(set(categories + [category]))"
   ]
  },
  {
   "cell_type": "code",
   "execution_count": null,
   "metadata": {
    "collapsed": true
   },
   "outputs": [],
   "source": []
  },
  {
   "cell_type": "code",
   "execution_count": null,
   "metadata": {
    "collapsed": true
   },
   "outputs": [],
   "source": []
  },
  {
   "cell_type": "code",
   "execution_count": 13,
   "metadata": {
    "collapsed": false
   },
   "outputs": [
    {
     "name": "stdout",
     "output_type": "stream",
     "text": [
      "\t/fashion/earrings:\t1.0525554384442102%\t(5093)\n",
      "\t/fashion/glasses:\t1.225742451484903%\t(5931)\n",
      "\t/models/model-furniture:\t1.3392026784053568%\t(6480)\n",
      "\t/toys-and-games/chess:\t1.4687829375658752%\t(7107)\n",
      "\t/toys-and-games/playsets:\t1.5696364726062788%\t(7595)\n",
      "\t/models/food-and-drink:\t1.8118502903672475%\t(8767)\n",
      "\t/toys-and-games/dice:\t2.048277429888193%\t(9911)\n",
      "\t/learning/math:\t2.1733110132886932%\t(10516)\n",
      "\t/fashion/bracelets:\t2.383078099489532%\t(11531)\n",
      "\t/learning/biology:\t2.42255151176969%\t(11722)\n",
      "\t/learning/physics-and-astronomy:\t2.4804182941699215%\t(12002)\n",
      "\t/learning:\t2.6116518899704464%\t(12637)\n",
      "\t/gadgets/tablet:\t2.711265422530845%\t(13119)\n",
      "\t/art/coins-and-badges:\t2.7325521317709303%\t(13222)\n",
      "\t/fashion:\t2.891479116291566%\t(13991)\n",
      "\t/toys-and-games/puzzles:\t2.8916857833715666%\t(13992)\n",
      "\t/models/model-robots:\t2.9505859011718023%\t(14277)\n",
      "\t/fashion/rings:\t3.101866203732407%\t(15009)\n",
      "\t/household/pets:\t3.106826213652427%\t(15033)\n",
      "\t/art/interactive-art:\t3.2240064480128963%\t(15600)\n",
      "\t/gadgets/audio:\t3.504660342654019%\t(16958)\n",
      "\t/art/art-tools:\t3.5296670593341184%\t(17079)\n",
      "\t/household/household-supplies:\t3.553640440614215%\t(17195)\n",
      "\t/tools/machine-tools:\t3.673507347014694%\t(17775)\n",
      "\t/models/people:\t3.6931407196147723%\t(17870)\n",
      "\t/toys-and-games/construction-toys:\t3.8384276768553534%\t(18573)\n",
      "\t/fashion/jewelry:\t3.9425878851757705%\t(19077)\n",
      "\t/hobby/music:\t4.029594725856119%\t(19498)\n",
      "\t/art/math-art:\t4.100481534296402%\t(19841)\n",
      "\t/fashion/costume:\t4.332775332217331%\t(20965)\n",
      "\t/models/creatures:\t4.51753570173807%\t(21859)\n",
      "\t/learning/engineering:\t4.565895798458264%\t(22093)\n",
      "\t/household/bathroom:\t5.01002335338004%\t(24242)\n",
      "\t/art/2d-art:\t5.048256763180193%\t(24427)\n",
      "\t/models/buildings-and-structures:\t5.203877074420816%\t(25180)\n",
      "\t/art/scans-and-replicas:\t5.272903879141092%\t(25514)\n",
      "\t/3d-printing/3d-printers:\t5.327050654101308%\t(25776)\n",
      "\t/tools:\t5.679624692582719%\t(27482)\n",
      "\t/models:\t5.704218075102816%\t(27601)\n",
      "\t/household/outdoor-and-garden:\t5.723851447702896%\t(27696)\n",
      "\t/models/animals:\t5.725298117262901%\t(27703)\n",
      "\t/hobby/robotics:\t5.8137516275032555%\t(28131)\n",
      "\t/3d-printing/3d-printer-extruders:\t5.954491908983818%\t(28812)\n",
      "\t/gadgets:\t6.000165333664001%\t(29033)\n",
      "\t/household/replacement-parts:\t6.070638807944283%\t(29374)\n",
      "\t/hobby/automotive:\t6.1146588959844586%\t(29587)\n",
      "\t/3d-printing/3d-printing-tests:\t6.244032488064976%\t(30213)\n",
      "\t/gadgets/video-games:\t6.390146113625561%\t(30920)\n",
      "\t/hobby:\t6.664186661706657%\t(32246)\n",
      "\t/tools/hand-tools:\t6.7596668526670385%\t(32708)\n",
      "\t/tools/tool-holders-and-boxes:\t6.908467150267635%\t(33428)\n",
      "\t/toys-and-games/games:\t7.172587678508691%\t(34706)\n",
      "\t/art:\t7.301547936429206%\t(35330)\n",
      "\t/gadgets/computer:\t7.3060946121892245%\t(35352)\n",
      "\t/models/vehicles:\t7.440841548349764%\t(36004)\n",
      "\t/gadgets/camera:\t7.5745551491102985%\t(36651)\n",
      "\t/household/office:\t7.585301837270341%\t(36703)\n",
      "\t/toys-and-games/mechanical-toys:\t7.651435302870606%\t(37023)\n",
      "\t/household/containers:\t7.955235910471821%\t(38493)\n",
      "\t/models/props:\t8.102176204352409%\t(39204)\n",
      "\t/art/signs-and-logos:\t8.2251431169529%\t(39799)\n",
      "\t/fashion/keychains:\t8.291276582553166%\t(40119)\n",
      "\t/household:\t8.395643457953582%\t(40624)\n",
      "\t/fashion/accessories:\t8.458056916113833%\t(40926)\n",
      "\t/tools/parts:\t8.482236964473929%\t(41043)\n",
      "\t/hobby/sports-and-outdoors:\t9.369872073077481%\t(45338)\n",
      "\t/household/decor:\t10.93248186496373%\t(52899)\n",
      "\t/hobby/diy:\t11.206729080124827%\t(54226)\n",
      "\t/toys-and-games/toy-and-game-accessories:\t11.228429123524913%\t(54331)\n",
      "\t/art/sculptures:\t11.43261619856573%\t(55319)\n",
      "\t/hobby/electronics:\t11.796350259367186%\t(57079)\n",
      "\t/toys-and-games:\t12.15491764316862%\t(58814)\n",
      "\t/household/kitchen-and-dining:\t12.317977969289272%\t(59603)\n",
      "\t/hobby/rc-vehicles:\t12.375224750449501%\t(59880)\n",
      "\t/household/organization:\t12.682952032570732%\t(61369)\n",
      "\t/gadgets/mobile-phone:\t13.715874098414863%\t(66367)\n",
      "\t/3d-printing/3d-printer-parts:\t20.248413830160995%\t(97976)\n",
      "\t/3d-printing/3d-printer-accessories:\t23.170479674292682%\t(112115)\n",
      "\t/3d-printing:\t24.68741604149875%\t(119455)\n"
     ]
    }
   ],
   "source": [
    "category_participation = []\n",
    "for category in categories:\n",
    "    num_users = 0\n",
    "    for user in user_ints.keys():\n",
    "        for c in user_ints[user]:\n",
    "            if c == category:\n",
    "                num_users += 1\n",
    "                break\n",
    "    category_participation.append((category,num_users))\n",
    "for cp in sorted(category_participation,key=lambda x:x[1]):\n",
    "    print(\"\\t{}:\\t{}%\\t({})\".format(cp[0],float(cp[1])/len(user_ints.keys())*100.0,cp[1]))"
   ]
  }
 ],
 "metadata": {
  "anaconda-cloud": {},
  "kernelspec": {
   "display_name": "Python [Root]",
   "language": "python",
   "name": "Python [Root]"
  },
  "language_info": {
   "codemirror_mode": {
    "name": "ipython",
    "version": 3
   },
   "file_extension": ".py",
   "mimetype": "text/x-python",
   "name": "python",
   "nbconvert_exporter": "python",
   "pygments_lexer": "ipython3",
   "version": "3.5.2"
  }
 },
 "nbformat": 4,
 "nbformat_minor": 0
}
